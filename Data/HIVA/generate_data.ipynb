{
 "cells": [
  {
   "cell_type": "code",
   "execution_count": 35,
   "metadata": {
    "collapsed": false
   },
   "outputs": [],
   "source": [
    "import pandas as pd\n",
    "import numpy as np\n",
    "\n",
    "dir = \"/home/anonyme/ML-challenges-crowdsourcing-big-data-problems--BLUE-TEAM/Data/HIVA/\"\n",
    "files_names = [\"hiva_test.labels\", \"hiva_train.labels\", \"hiva_valid.labels\"]\n",
    "files_names_out = [\"hiva_test.solution\", \"hiva_train.solution\", \"hiva_valid.solution\"]\n",
    "\n",
    "for file_name, file_out_name in zip(files_names, files_names_out):\n",
    "    file = open(dir  + file_name, 'r')\n",
    "\n",
    "    file_out = open(dir + file_out_name, \"w+\")\n",
    "    lines = file.readlines()\n",
    "\n",
    "    for line in lines:\n",
    "        if line.split()[0] == '-1':\n",
    "            file_out.write(\"1 0\\n\")\n",
    "        else:\n",
    "            file_out.write(\"0 1\\n\")\n",
    "\n",
    "    file.close()\n",
    "    file_out.close()\n"
   ]
  },
  {
   "cell_type": "code",
   "execution_count": null,
   "metadata": {
    "collapsed": true
   },
   "outputs": [],
   "source": []
  },
  {
   "cell_type": "code",
   "execution_count": null,
   "metadata": {
    "collapsed": false
   },
   "outputs": [],
   "source": []
  }
 ],
 "metadata": {
  "anaconda-cloud": {},
  "kernelspec": {
   "display_name": "Python [default]",
   "language": "python",
   "name": "python3"
  },
  "language_info": {
   "codemirror_mode": {
    "name": "ipython",
    "version": 3
   },
   "file_extension": ".py",
   "mimetype": "text/x-python",
   "name": "python",
   "nbconvert_exporter": "python",
   "pygments_lexer": "ipython3",
   "version": "3.5.2"
  }
 },
 "nbformat": 4,
 "nbformat_minor": 1
}
